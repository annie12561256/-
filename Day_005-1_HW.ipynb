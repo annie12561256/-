{
 "cells": [
  {
   "cell_type": "code",
   "execution_count": 45,
   "metadata": {},
   "outputs": [],
   "source": [
    "import pandas as pd\n",
    "import numpy as np\n",
    "import random"
   ]
  },
  {
   "cell_type": "code",
   "execution_count": 46,
   "metadata": {},
   "outputs": [
    {
     "name": "stdout",
     "output_type": "stream",
     "text": [
      "   國家     人口\n",
      "0  台灣  63284\n",
      "1  英國  16207\n",
      "2  美國  64416\n",
      "3  智利  66714\n"
     ]
    }
   ],
   "source": [
    "x1 = random.randint(1,100000)\n",
    "x2 = random.randint(1,100000)\n",
    "x3 = random.randint(1,100000)\n",
    "x4 = random.randint(1,100000)\n",
    "\n",
    "data = {'國家': ['台灣', '英國', '美國', '智利'],\n",
    "        '人口': [ x1, x2 , x3 , x4] }\n",
    "visitors_1 = pd.DataFrame(data)\n",
    "print(visitors_1)"
   ]
  },
  {
   "cell_type": "code",
   "execution_count": 47,
   "metadata": {},
   "outputs": [
    {
     "data": {
      "text/plain": [
       "66714"
      ]
     },
     "execution_count": 47,
     "metadata": {},
     "output_type": "execute_result"
    }
   ],
   "source": [
    "people = [x1,x2,x3,x4]\n",
    "max(people)"
   ]
  },
  {
   "cell_type": "code",
   "execution_count": 48,
   "metadata": {},
   "outputs": [
    {
     "name": "stdout",
     "output_type": "stream",
     "text": [
      "最大人口是智利\n"
     ]
    }
   ],
   "source": [
    "a = max(people) \n",
    "if a == x1 :\n",
    "    print('最大人口是台灣')\n",
    "elif a == x2 :\n",
    "    print('最大人口是英國')\n",
    "elif a == x3 :\n",
    "    print('最大人口是美國')\n",
    "elif a == x4 :\n",
    "    print('最大人口是智利')"
   ]
  }
 ],
 "metadata": {
  "kernelspec": {
   "display_name": "Python [conda env:myplace]",
   "language": "python",
   "name": "conda-env-myplace-py"
  },
  "language_info": {
   "codemirror_mode": {
    "name": "ipython",
    "version": 3
   },
   "file_extension": ".py",
   "mimetype": "text/x-python",
   "name": "python",
   "nbconvert_exporter": "python",
   "pygments_lexer": "ipython3",
   "version": "3.6.9"
  }
 },
 "nbformat": 4,
 "nbformat_minor": 2
}
