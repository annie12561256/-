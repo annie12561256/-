{
 "cells": [
  {
   "cell_type": "markdown",
   "metadata": {},
   "source": [
    "請找出一個你認為機器學習可以發光發熱的領域並闡述原因?"
   ]
  },
  {
   "cell_type": "markdown",
   "metadata": {},
   "source": [
    "醫學\n",
    "我覺得可以做網路型的醫生門診，\n",
    "台灣有許多的病例資料，\n",
    "可以在危急，或是半夜門診休息時透過選擇目前的狀況，來得知目前自己的狀況是否需要急診，\n",
    "如果不用，那應該怎麼處理。\n",
    "或是提供更進一步的檢測方法，來確認是不是真的是此病症。"
   ]
  }
 ],
 "metadata": {
  "kernelspec": {
   "display_name": "Python [conda env:myplace]",
   "language": "python",
   "name": "conda-env-myplace-py"
  },
  "language_info": {
   "codemirror_mode": {
    "name": "ipython",
    "version": 3
   },
   "file_extension": ".py",
   "mimetype": "text/x-python",
   "name": "python",
   "nbconvert_exporter": "python",
   "pygments_lexer": "ipython3",
   "version": "3.6.9"
  }
 },
 "nbformat": 4,
 "nbformat_minor": 2
}
