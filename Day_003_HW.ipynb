{
 "cells": [
  {
   "cell_type": "markdown",
   "metadata": {},
   "source": [
    "專案的目標？ (要解決什麼問題）\n",
    "\n",
    "ANS:加速AI機械人研究"
   ]
  },
  {
   "cell_type": "markdown",
   "metadata": {},
   "source": [
    "使用的技術是？ \n",
    "ANS : 1.ROS 2.SLAM"
   ]
  },
  {
   "cell_type": "markdown",
   "metadata": {},
   "source": [
    "資料來源？\n",
    "https://ai.facebook.com/blog/open-sourcing-pyrobot-to-accelerate-ai-robotics-research/"
   ]
  }
 ],
 "metadata": {
  "kernelspec": {
   "display_name": "Python [conda env:myplace]",
   "language": "python",
   "name": "conda-env-myplace-py"
  },
  "language_info": {
   "codemirror_mode": {
    "name": "ipython",
    "version": 3
   },
   "file_extension": ".py",
   "mimetype": "text/x-python",
   "name": "python",
   "nbconvert_exporter": "python",
   "pygments_lexer": "ipython3",
   "version": "3.6.9"
  }
 },
 "nbformat": 4,
 "nbformat_minor": 2
}
